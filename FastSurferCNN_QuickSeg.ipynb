{
 "cells": [
  {
   "cell_type": "markdown",
   "metadata": {
    "id": "87qEuu_fXuX9"
   },
   "source": [
    "# FastSurfer Segmentation"
   ]
  },
  {
   "cell_type": "markdown",
   "metadata": {
    "id": "DpvjCnfdSmSR"
   },
   "source": [
    "## Enabling the GPU\n",
    "\n",
    "First, you'll need to enable GPUs for the notebook:\n",
    "\n",
    "- Navigate to Edit→Notebook Settings\n",
    "- select GPU from the Hardware Accelerator drop-down\n",
    "\n",
    "### Cookies\n",
    "\n",
    "Make sure your Browser allows third-party cookies\n",
    "\n",
    " - [Firefox](https://support.mozilla.org/en-US/kb/third-party-cookies-firefox-tracking-protection)\n",
    " - [Google Chrome](https://support.google.com/chrome/answer/95647?hl=en&co=GENIE.Platform=Desktop#zippy=%2Callow-or-block-cookies)"
   ]
  },
  {
   "cell_type": "markdown",
   "metadata": {
    "id": "aKwchby6WVe0"
   },
   "source": [
    "---"
   ]
  },
  {
   "cell_type": "markdown",
   "metadata": {
    "id": "_wrvDud3JiHc"
   },
   "source": [
    "## Click 1: Setup FastSurfer"
   ]
  },
  {
   "cell_type": "code",
   "execution_count": null,
   "metadata": {
    "execution": {
     "iopub.execute_input": "2025-04-01T18:34:10.712591Z",
     "iopub.status.busy": "2025-04-01T18:34:10.711706Z",
     "iopub.status.idle": "2025-04-01T18:35:51.278734Z",
     "shell.execute_reply": "2025-04-01T18:35:51.277734Z",
     "shell.execute_reply.started": "2025-04-01T18:34:10.712561Z"
    },
    "id": "u2iEQOTlJiHe",
    "outputId": "ebcc6c77-5b2c-45c5-f222-6fb1fee2d14b",
    "scrolled": true
   },
   "outputs": [],
   "source": [
    "#@title Here we first setup the environment by downloading the open source deep-mi/fastsurfer project and the required packages\n",
    "import os\n",
    "import sys\n",
    "from os.path import basename, exists, splitext\n",
    "\n",
    "print(\"Starting setup. This could take a few minutes\")\n",
    "print(\"----------------------------------------------\")\n",
    "\n",
    "is_google_colab = \"colab.research.google.com\" in str(os.environ)\n",
    "if is_google_colab:\n",
    "    # this is for a Google Colab Notebook\n",
    "    SETUP_DIR = \"/content/\"\n",
    "else:\n",
    "    SETUP_DIR = os.environ[\"HOME\"] + \"/fastsurfer_tutorial/\"\n",
    "\n",
    "# Go to the FastSurfer directory\n",
    "!mkdir -p \"{SETUP_DIR}\"\n",
    "%cd \"{SETUP_DIR}\"\n",
    "\n",
    "print(f\"Using {SETUP_DIR} to store files.\")\n",
    "\n",
    "print(\"Downloading FastSurfer\")\n",
    "print(\"----------------------------------------------\")\n",
    "\n",
    "\n",
    "git_repo_url = 'https://github.com/deep-mi/fastsurfer.git'\n",
    "project_name = splitext(basename(git_repo_url))[0]\n",
    "FASTSURFER_HOME = SETUP_DIR + project_name + \"/\"\n",
    "if not exists(project_name):\n",
    "  # clone and install dependencies\n",
    "  ! git clone -q --branch stable $git_repo_url\n",
    "  ! pip install -r $FASTSURFER_HOME/requirements.txt\n",
    "sys.path.append(FASTSURFER_HOME)\n",
    "\n",
    "# Update dependencies\n",
    "print(\"Installing required packages\")\n",
    "print(\"----------------------------------------------\")\n",
    "\n",
    "! pip install torchio==0.18.83\n",
    "! pip install yacs==0.1.8\n",
    "! pip install plotly==5.9.0\n",
    "\n",
    "print(\"Finished setup\")\n",
    "print(\"----------------------------------------------\")\n"
   ]
  },
  {
   "cell_type": "markdown",
   "metadata": {
    "id": "adz6zF6NJiHg"
   },
   "source": [
    "---"
   ]
  },
  {
   "cell_type": "markdown",
   "metadata": {
    "id": "GcGmE7iBLz59"
   },
   "source": [
    "## Click 2: Get image path"
   ]
  },
  {
   "cell_type": "code",
   "execution_count": null,
   "metadata": {
    "execution": {
     "iopub.execute_input": "2025-03-29T00:38:23.170090Z",
     "iopub.status.busy": "2025-03-29T00:38:23.169163Z",
     "iopub.status.idle": "2025-03-29T00:38:23.192292Z",
     "shell.execute_reply": "2025-03-29T00:38:23.191650Z",
     "shell.execute_reply.started": "2025-03-29T00:38:23.170051Z"
    },
    "jupyter": {
     "outputs_hidden": true
    }
   },
   "outputs": [],
   "source": [
    "for i, folder in enumerate(os.listdir(dir), start=1):\n",
    "    # Specify image route\n",
    "    img = os.listdir(os.path.join(dir, folder))[0]\n",
    "    img = os.path.join(os.path.join(dir, folder),img)\n",
    "    print(img)"
   ]
  },
  {
   "cell_type": "markdown",
   "metadata": {
    "id": "cbHuMQdRbc3Z"
   },
   "source": [
    "---"
   ]
  },
  {
   "cell_type": "markdown",
   "metadata": {
    "id": "IGWHO-pyKwyA"
   },
   "source": [
    "## Click 3: Run FastSurfer"
   ]
  },
  {
   "cell_type": "code",
   "execution_count": null,
   "metadata": {
    "colab": {
     "base_uri": "https://localhost:8080/"
    },
    "execution": {
     "iopub.execute_input": "2025-04-01T18:35:51.281000Z",
     "iopub.status.busy": "2025-04-01T18:35:51.280325Z",
     "iopub.status.idle": "2025-04-01T20:08:15.986276Z",
     "shell.execute_reply": "2025-04-01T20:08:15.985231Z",
     "shell.execute_reply.started": "2025-04-01T18:35:51.280971Z"
    },
    "id": "vUvH0qvGDW05",
    "outputId": "74cbfb09-b029-47ec-a044-6f556502f087"
   },
   "outputs": [],
   "source": [
    "dir = \"/notebooks/subjects_init\"\n",
    "os.listdir(dir)\n",
    "\n",
    "for i, folder in enumerate(os.listdir(dir), start=1):\n",
    "    # Specify image route\n",
    "    img = os.listdir(os.path.join(dir, folder))[0]\n",
    "    img = os.path.join(os.path.join(dir, folder),img)\n",
    "    #print(img)\n",
    "    print(\"----------------------------------------\")\n",
    "    print(\"--------\",i,\"/\",len(os.listdir(dir)), \"(\", folder, \")\", \"-------\")\n",
    "    print(\"----------------------------------------\")\n",
    "    #@title The first part of FastSurfer creates a whole-brain segmentation into 95 classes. Here, we use the pretrained deep-learning network FastSurferCNN using the checkpoints stored at the open source project deep-mi/fastsurfer to run the model inference on a single image.\n",
    "\n",
    "    # Note, you should also add --3T, if you are processing data from a 3T scanner.\n",
    "    ! FASTSURFER_HOME=$FASTSURFER_HOME \\\n",
    "      $FASTSURFER_HOME/run_fastsurfer.sh --t1 $img \\\n",
    "                                         --sd \"{dir}\" \\\n",
    "                                         --sid \"{folder}\" \\\n",
    "                                         --seg_only --py python3 \\\n",
    "                                         --no_cereb --no_hypothal \\\n",
    "                                         --allow_root --3T --threads max"
   ]
  },
  {
   "cell_type": "markdown",
   "metadata": {
    "id": "EiKKcO5SbeOR"
   },
   "source": [
    "---"
   ]
  }
 ],
 "metadata": {
  "accelerator": "GPU",
  "colab": {
   "collapsed_sections": [
    "DpvjCnfdSmSR"
   ],
   "provenance": [],
   "toc_visible": true
  },
  "kernelspec": {
   "display_name": "Python 3 (ipykernel)",
   "language": "python",
   "name": "python3"
  },
  "language_info": {
   "codemirror_mode": {
    "name": "ipython",
    "version": 3
   },
   "file_extension": ".py",
   "mimetype": "text/x-python",
   "name": "python",
   "nbconvert_exporter": "python",
   "pygments_lexer": "ipython3",
   "version": "3.7.13"
  }
 },
 "nbformat": 4,
 "nbformat_minor": 4
}
